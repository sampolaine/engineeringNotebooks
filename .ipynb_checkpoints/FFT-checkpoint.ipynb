{
 "cells": [
  {
   "cell_type": "code",
   "execution_count": 2,
   "metadata": {},
   "outputs": [],
   "source": [
    "%matplotlib inline\n",
    "\n",
    "import matplotlib\n",
    "import numpy as np\n",
    "import matplotlib.pyplot as plt\n",
    "import time"
   ]
  },
  {
   "cell_type": "markdown",
   "metadata": {},
   "source": [
    "# Radix-2 Fast Fourier Transform\n",
    "This is an introduction to the famous Fast Fourier Transform algorithm devised by Cooley and Tuckey in the sixties. The goal of the FFT algorithm is to solve the Discrete Fourier Transform (DFT) in $O(nlog(n))$ time complexity, significantly improving on the naive $O(n^2)$ implementation.\n",
    "\n",
    "## DFT recap\n",
    "The definition of the DFT is\n",
    "\n",
    "\\begin{equation}\n",
    "X_k = \\sum^{N-1}_{n=0}x_n \\cdot e^{-j\\frac{2\\pi}{N}kn}\n",
    "\\end{equation}\n",
    ", which can be expanded with the Euler's formula to\n",
    "\\begin{equation}\n",
    "X_k = \\sum^{N-1}_{n=0}x_n \\cdot (\\cos{\\frac{2\\pi}{N}kn} - j \\sin{\\frac{2\\pi}{N}kn})\n",
    "\\end{equation}\n",
    "We can also write the exponential term as\n",
    "\n",
    "## Matrix form of the DFT\n",
    "\\begin{equation}\n",
    "e^{-j\\frac{2\\pi}{N}kn} = W_N^{nk}\n",
    "\\end{equation}\n",
    "Quite simply, W is a N by N matrix, each row of which is multiplied by the x vector and summed up to get the transformed data point.\n",
    "\n",
    "Now the matrix operation version of the DFT looks like\n",
    "\n",
    "\\begin{equation}\n",
    "X_k = \\sum_{n=0}^{N-1} x_n W_N^{nk} = W_N \\cdot x\n",
    "\\end{equation}\n",
    "\n",
    "\\begin{equation}\n",
    "\\begin{bmatrix}\n",
    "X_0 \\\\\n",
    "X_1 \\\\\n",
    "X_2 \\\\\n",
    "X_3\n",
    "\\end{bmatrix}=\n",
    "\\begin{bmatrix}\n",
    "W^{00} & W^{01} & W^{02} & W^{03} \\\\ \n",
    "W^{10} & W^{11} & W^{12} & W^{13} \\\\\n",
    "W^{20} & W^{21} & W^{22} & W^{23} \\\\\n",
    "W^{30} & W^{31} & W^{32} & W^{33} \\\\\n",
    "\\end{bmatrix}\n",
    "\\begin{bmatrix}\n",
    "x_0 \\\\\n",
    "x_1 \\\\\n",
    "x_2 \\\\\n",
    "x_3\n",
    "\\end{bmatrix}\n",
    "\\end{equation}\n",
    "\n",
    "The key thing to understand here is that the W matrix does not depend on the value vector x, but only the integer indexes n and k. Here we can instantly see an improvement, the nk and kn values must be identical for the W matrix.\n",
    "\n",
    "We can write the W matrix open for a simple data set of N = 4. Use python for that"
   ]
  },
  {
   "cell_type": "code",
   "execution_count": 3,
   "metadata": {},
   "outputs": [
    {
     "name": "stdout",
     "output_type": "stream",
     "text": [
      "[[ 1.+0.j  1.+0.j  1.+0.j  1.+0.j]\n",
      " [ 1.+0.j  0.-1.j -1.-0.j -0.+1.j]\n",
      " [ 1.+0.j -1.-0.j  1.+0.j -1.-0.j]\n",
      " [ 1.+0.j -0.+1.j -1.-0.j  0.-1.j]]\n"
     ]
    }
   ],
   "source": [
    "N = 4\n",
    "W = np.zeros((N,N))* (0+0j)\n",
    "\n",
    "## Naive (n^2) filling of W matrix\n",
    "for k in range(N):\n",
    "    for n in range(N):\n",
    "        W[k,n] = np.exp(np.complex(0, -2*np.pi/N*k*n))\n",
    "\n",
    "print(W.round(0))"
   ]
  },
  {
   "cell_type": "markdown",
   "metadata": {},
   "source": [
    "\\begin{equation}\n",
    "W_N^{nk} = e^{-j\\frac{2\\pi}{N}kn} = \n",
    "\\begin{bmatrix}\n",
    "1 & 1 & 1 & 1 \\\\ \n",
    "1 & -j & -1 & j \\\\\n",
    "1 & -1 & 1 & -1 \\\\\n",
    "1 & j & -1 & -j \\\\\n",
    "\\end{bmatrix}\n",
    "\\end{equation}\n",
    "\n",
    "Here we can confirm that the matrix is symmetric about the diagonal, only depending on the values of k and n. The matrix W can only have N different values, so calculating the required values can easily be optimized to $O(n)$. Note that here we could simply get the DFT by multiplying this W matrix with the input vector x.\n",
    "\n",
    "Now we know that we can optimize the algorithm by halving the computation w.r.t the W matrix, but it still gives us $O(n^2)$ computation time because we still have to calculate the product of the W matrix and the x vector. So this doesn't really solve anything. But it showed us the redundancy that exists, now we just need to eliminate it."
   ]
  },
  {
   "cell_type": "markdown",
   "metadata": {},
   "source": [
    "## Divide and conguer\n",
    "\n",
    "For simplicity, we start by assuming that the data contains $n^2$ values.\n",
    "A divide and conguer algorithm can be used to drastically reduce the amount of required computation. The approach is based on splitting the input data to two groups, even and odd values, both groups having N/2 values.\n",
    "\n",
    "\\begin{equation}\n",
    "X_k = E_k + W^k_N O_k\n",
    "\\end{equation}\n",
    "Where E corresponds to the equation for the even values and O to the odd values.\n",
    "\n",
    "For even values:\n",
    "\n",
    "\\begin{equation}\n",
    "E_k = \\sum_{n=0}^{N/2-1}x_{2n}W_{N}^{2kn}\n",
    "\\end{equation}\n",
    "\n",
    "And for odd values:\n",
    "\n",
    "\\begin{equation}\n",
    "O_{k} = \\sum_{n=0}^{N/2-1}x_{2n+1}W_{N}^{(2n+1)k}\n",
    "\\end{equation}\n",
    "\n",
    "The most important detail is in the indexing of the W matrix, as we previously noticed, the indexing of the W matrix only depends on the values of k and n. Let's see what this means in the exponential terms.\n",
    "\n",
    "The even indexing:\n",
    "\\begin{equation}\n",
    "W_{N}^{2kn} = e^{-j\\frac{2\\pi}{N}2kn} = e^{-j\\frac{2}{\\pi}2kn}= W_{N/2}^{kn}\n",
    "\\end{equation}\n",
    "\n",
    "For odd indexing:\n",
    "\\begin{equation}\n",
    "W_{N}^{(2n+1)k} = e^{-j\\frac{2\\pi}{N}(2n+1)k} = e^{-j\\frac{2\\pi}{N/2}kn}e^{-j\\frac{2\\pi}{N}k} = W_{N/2}^{kn}W_{N}^k\n",
    "\\end{equation}\n",
    "\n",
    "This means that we just effectively reduced the size of the W matrix from N x N to N/2 x N/2! It's clearly seen now that repeating this yields a logarithmic descent of the size.\n",
    "\n",
    "Now we do this until N/2 = 2, and the divide and conquer is ready. The W matrices are now so small that precomputing them is trivial. We can also further exploit the symmetric nature of the W matrix as because of the complex conjugation the last half of the $W^k_{N}$ vector is equal to negative of the first half. For our splitted DFT this means\n",
    "\n",
    "First half:\n",
    "\\begin{equation}\n",
    "X_k = E_n + W^k_N O_n, k<N/2\n",
    "\\end{equation}\n",
    "\n",
    "Second half:\n",
    "\\begin{equation}\n",
    "X_k = E_n - W^k_N O_n, k>=N/2\n",
    "\\end{equation}\n",
    "\n",
    "Then we can just concatenate the two $X_n$ vectors.\n",
    "\n",
    "Note that we assume here that the size N is a power of two (Radix-2 FFT). We are ready to implement the algorithm using recursion."
   ]
  },
  {
   "cell_type": "code",
   "execution_count": 41,
   "metadata": {},
   "outputs": [],
   "source": [
    "def naiveFFT(x):\n",
    "    ''' The naive implementation for comparison '''\n",
    "    N = x.size\n",
    "    X = np.ones(N)*(0+0j)\n",
    "    \n",
    "    for k in range(N):\n",
    "        A = np.ones(N)*(0+0j)\n",
    "        for n in range(N):\n",
    "            A[n] = x[n]*np.exp(-np.complex(0, 2*np.pi*k*n/N))\n",
    "        X[k] = sum(A)\n",
    "    \n",
    "    return X"
   ]
  },
  {
   "cell_type": "code",
   "execution_count": 45,
   "metadata": {},
   "outputs": [],
   "source": [
    "def FFT(x):\n",
    "    ''' Recursive radix-2 FFT'''\n",
    "    x = np.array(x, dtype=float)\n",
    "    N = int(x.size)\n",
    "    # Use the naive version when the size is small enough\n",
    "    if N <= 8:\n",
    "        return naiveFFT(x)\n",
    "    else:\n",
    "        # Calculate first half of the W veco\n",
    "        k = np.arange(N//2)\n",
    "        W = np.exp(-2j*np.pi*k/N)\n",
    "        evens = FFT(x[::2])\n",
    "        odds = FFT(x[1::2])\n",
    "        return np.concatenate([evens + (W * odds), evens - (W * odds)])\n",
    "               \n",
    "    return 0"
   ]
  },
  {
   "cell_type": "code",
   "execution_count": 46,
   "metadata": {},
   "outputs": [
    {
     "name": "stdout",
     "output_type": "stream",
     "text": [
      "sampling_frequency: 102.3\n"
     ]
    },
    {
     "data": {
      "text/plain": [
       "<function matplotlib.pyplot.plot(*args, scalex=True, scaley=True, data=None, **kwargs)>"
      ]
     },
     "execution_count": 46,
     "metadata": {},
     "output_type": "execute_result"
    },
    {
     "data": {
      "image/png": "[encoded data removed]",
      "text/plain": [
       "<Figure size 432x288 with 2 Axes>"
      ]
     },
     "metadata": {
      "needs_background": "light"
     },
     "output_type": "display_data"
    }
   ],
   "source": [
    "# Test with the data from last notebook\n",
    "def f_sin(t):\n",
    "    return np.sin(4*t*2*np.pi) + np.sin(1.5*t*2*np.pi)\n",
    "# Create a time-series signal\n",
    "N = 2**10\n",
    "t = np.linspace(0, 10, N)\n",
    "T = t[1]-t[0]\n",
    "signal = f_sin(t)\n",
    "fft = FFT(signal)\n",
    "\n",
    "# Calculate the frequency scale for the plot\n",
    "freq_scale = np.linspace(0,1/T, N)\n",
    "\n",
    "print(\"sampling_frequency: \" + str(1/T))\n",
    "\n",
    "# Plot the results\n",
    "f, (ax1, ax2) = plt.subplots(1, 2)\n",
    "ax1.plot(t, signal)\n",
    "ax1.set_title('Signal')\n",
    "ax2.plot(freq_scale, np.absolute(fft))\n",
    "ax2.set_title('DFT')\n",
    "plt.plot"
   ]
  },
  {
   "cell_type": "markdown",
   "metadata": {},
   "source": [
    "For fun we can now test our FFT against the built in FFT in the numpy library"
   ]
  },
  {
   "cell_type": "code",
   "execution_count": 47,
   "metadata": {},
   "outputs": [
    {
     "name": "stdout",
     "output_type": "stream",
     "text": [
      "Naive: 0.30092906951904297\n",
      "Better: 0.016707897186279297\n",
      "Numpy: 0.0001480579376220703\n",
      "\n",
      " Correct results\n"
     ]
    }
   ],
   "source": [
    "# Test it with random digits. Again, this has to be a power of two because we made a radix-2 implementation\n",
    "x = np.random.rand(256)\n",
    "\n",
    "t0 = time.time()\n",
    "naive = naiveFFT(x)\n",
    "t1 = time.time()\n",
    "print(\"Naive: {}\".format(t1-t0))\n",
    "\n",
    "better = FFT(x)\n",
    "t2 = time.time()\n",
    "print(\"Better: {}\".format(t2-t1))\n",
    "\n",
    "t3 = time.time()\n",
    "numpyfft = np.fft.fft(x)\n",
    "print(\"Numpy: {}\".format(t3-t2))\n",
    "\n",
    "# Check that all had same result\n",
    "if np.allclose(naive, numpyfft) and np.allclose(better, numpyfft):\n",
    "    print(\"\\n Correct results\")\n",
    "else:\n",
    "    print(\"\\n Wrong results\")\n"
   ]
  },
  {
   "cell_type": "markdown",
   "metadata": {},
   "source": [
    "## Further optimization by removing recursion\n",
    "\n",
    "Success, we managed to create a O(n log(n)) algorithm. Hovever, we are still quite far away from the numpy's version. From my knowledge with computer science I know that recursion sucks. Function calls are slow and with too long inputs we run to memory issues on the callstack. So we should improve the algorithm by removing recursion.\n",
    "\n",
    "In this version of the algorithm, we start from bottom up. We reshape the input to segments with the length where we would stop splitting the arrays in the recursive version, and calculate the DFT of all of the small segments simultaneously, then calculating is just a matter of combining the subarrays using same method as we did in the recursive version."
   ]
  },
  {
   "cell_type": "code",
   "execution_count": 48,
   "metadata": {},
   "outputs": [],
   "source": [
    "def nonrecursiveFFT(x):\n",
    "    t0 = time.time()\n",
    "    \n",
    "    x = np.array(x)\n",
    "    N = x.shape[0]\n",
    "    stop = 16\n",
    "    x_split = x.reshape((stop, -1)) # Split the input to n columns of size 16\n",
    "    \n",
    "    n = np.arange(stop)\n",
    "    k = n.reshape((stop, 1))\n",
    "    W = np.exp(-2j*np.pi*k*n/stop) # W matrix is of shape (stop, x)\n",
    "    \n",
    "    X = np.dot(W, x_split)\n",
    "    \n",
    "    while X.shape[0] < N:\n",
    "        evens = X[:, :X.shape[1] // 2] # // is integer division\n",
    "        odds = X[:, X.shape[1] // 2:]\n",
    "        W = np.exp(-1j * np.pi * np.arange(X.shape[0])/ X.shape[0])[:, None]\n",
    "        X = np.vstack([evens + W * odds, evens - W * odds])\n",
    "    \n",
    "    \n",
    "    return np.concatenate(X)"
   ]
  },
  {
   "cell_type": "code",
   "execution_count": 49,
   "metadata": {},
   "outputs": [
    {
     "name": "stdout",
     "output_type": "stream",
     "text": [
      "working\n"
     ]
    }
   ],
   "source": [
    "x = np.random.rand(16)\n",
    "nonrecursive = nonrecursiveFFT(x)\n",
    "numpyfft = np.fft.fft(x)\n",
    "\n",
    "if (np.allclose(nonrecursive, numpyfft)):\n",
    "    print(\"Nonrecursive implementation gives the correct result\")\n",
    "else:\n",
    "    print(\"Incorrect result\")"
   ]
  },
  {
   "cell_type": "code",
   "execution_count": 40,
   "metadata": {},
   "outputs": [
    {
     "name": "stdout",
     "output_type": "stream",
     "text": [
      "Nonrecursive: 0.058702945709228516\n",
      "Numpy: 0.00020313262939453125\n",
      "\n",
      " Correct results\n"
     ]
    }
   ],
   "source": [
    "x = np.random.rand(2048*32)\n",
    "\n",
    "t0 = time.time()\n",
    "nonrecursive = nonrecursiveFFT(x)\n",
    "t1 = time.time()\n",
    "print(\"Nonrecursive: {}\".format(t1-t0))\n",
    "\n",
    "t2 = time.time()\n",
    "numpyfft = np.fft.fft(x)\n",
    "print(\"Numpy: {}\".format(t2-t1))\n",
    "\n",
    "if np.allclose(nonrecursive, numpyfft):\n",
    "    print(\"\\n Correct results\")\n",
    "else:\n",
    "    print(\"\\n Wrong results\")"
   ]
  },
  {
   "cell_type": "markdown",
   "metadata": {},
   "source": [
    "## Closing remarks\n",
    "\n",
    "This is good enough for understanding the algorithm, but it could be optimized a lot by counting the W vectors or \"Twiddle factors\" is still repeated a lot in the nonrecursive version, by doing that more effectively we could speed up the algorithm. Also with larger input sizes the memory accessing becomes an issue and that can't easily be optimized using python. (Numpy relies on backends implemented in more low-level languages)."
   ]
  },
  {
   "cell_type": "code",
   "execution_count": null,
   "metadata": {},
   "outputs": [],
   "source": []
  }
 ],
 "metadata": {
  "kernelspec": {
   "display_name": "Python 3",
   "language": "python",
   "name": "python3"
  },
  "language_info": {
   "codemirror_mode": {
    "name": "ipython",
    "version": 3
   },
   "file_extension": ".py",
   "mimetype": "text/x-python",
   "name": "python",
   "nbconvert_exporter": "python",
   "pygments_lexer": "ipython3",
   "version": "3.8.7"
  }
 },
 "nbformat": 4,
 "nbformat_minor": 4
}
