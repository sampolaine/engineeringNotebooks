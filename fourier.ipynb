{
 "cells": [
  {
   "cell_type": "code",
   "execution_count": 96,
   "metadata": {},
   "outputs": [],
   "source": [
    "%matplotlib inline\n",
    "\n",
    "import matplotlib\n",
    "import numpy as np\n",
    "import matplotlib.pyplot as plt"
   ]
  },
  {
   "cell_type": "markdown",
   "metadata": {},
   "source": [
    "# Introduction to computational Fourier analysis for engineers\n",
    "Most of mechanical engineers get a good introduction to vibration analysis, and sooner or later FFT is presented as a tool for detecting natural frequencies of vibrating systems. However, the theory behind the FFT is not touched even with a long stick. This notebook will take you from the low level theory and main concepts of the Fourier transform by forgetting the FFT completely and talking about the real deals, which are the Fourier transform, Fourier series and the discrete fourier transform.\n",
    "\n",
    "## Fourier transform\n",
    "### Basics\n",
    "The Fourier transform is defined as\n",
    "\n",
    "\\begin{equation}\n",
    "\\hat{f}(\\xi) = \\int_{-\\infty}^{\\infty}f(x)e^{-2\\pi j x \\xi}dx\n",
    "\\end{equation}\n",
    "> where,<br/>\n",
    "> $f(x)$ is any integrable function of $x$, for time series x = t<br/>\n",
    "> If x is time then $\\xi$ is frequency <br/>\n",
    "> $j$ is the imaginary unit<br/>\n",
    "> The hat in $\\hat{f}(\\xi)$ is used to denote the Fourier transformed function\n",
    "\n",
    "Intuitively, the integral results in higher values when the signal $f(x)$ contains a frequency component $\\xi$, we will have a closer look at this later. The reason for not including time in the definition by default is that the Fourier transform has applications outside of the time series analysis, which is only a special case of the fourier transform.\n",
    "\n",
    "When the function $f(x)$ is integrable and real valued, the Fourier transform can be reversed without information loss via the inverse Fourier transform\n",
    "\n",
    "\\begin{equation}\n",
    "f(x) = \\int_{-\\infty}^{\\infty}\\hat{f}(\\xi)e^{2\\pi j x \\xi}d\\xi\n",
    "\\end{equation}\n",
    "\n",
    "For the algorithm implementation, it is important for now to understand that the exponential function can be split to sine and cosine components according to the Euler's formula as\n",
    "\n",
    "\\begin{equation}\n",
    "e^{jx} = \\cos(x) + j\\ \\sin(x)\n",
    "\\end{equation}\n",
    "\n",
    "Applying this to the Fourier transform gives\n",
    "\n",
    "\\begin{equation}\n",
    "\\hat{f}(\\xi) = \\int_{-\\infty}^{\\infty}f(x)(\\cos(2\\pi\\xi x) + j\\ \\sin(2\\pi\\xi x))dx\n",
    "\\end{equation}\n",
    "\n",
    "This results in two integrals\n",
    "\n",
    "\\begin{equation}\n",
    "\\hat{f}(\\xi) = \\int_{-\\infty}^{\\infty}f(x)\\cos(2\\pi\\xi x)dx + j \\int_{-\\infty}^{\\infty}f(x)\\ \\sin(2\\pi\\xi x))dx\n",
    "\\end{equation}\n",
    "\n",
    "where the real and imaginary parts give the magnitude and phase of the Fourier transformed function $\\hat{f}(\\xi)$ respectively.\n",
    "\n",
    "### Visual interpretation\n",
    "\n",
    "A nice visualisation of the fourier transform can be watched on youtube and is linked below. For the video, remember that for time-series\n",
    "\n",
    "> x = t<br/>\n",
    "> $\\xi$ = $f$ (frequency)<br/>\n",
    "> $\\hat{f}(x)$ can also be denoted as $F(x)$<br/>\n",
    "> $2\\pi f$ = $\\omega$<br/>\n",
    "\n",
    "which give the little bit nicer form of the transform\n",
    "\n",
    "\\begin{equation}\n",
    "\\hat{F}(\\omega) = \\int_{-\\infty}^{\\infty}f(t)\\cos(\\omega t)dt + j\\  \\int_{-\\infty}^{\\infty}f(x)\\sin(\\omega t)dt\n",
    "\\end{equation}\n",
    "\n",
    "[![Visualisation of the fourier integral video preview](https://img.youtube.com/vi/3gjJDuCAEQQ/0.jpg)](https://www.youtube.com/watch?v=3gjJDuCAEQQ)\n",
    "\n",
    "### Test questions\n",
    "* Question 1: Evaluate the fourier transform $\\hat{f}(sin(2\\pi \\xi_0 x))(\\xi)$<br/>\n",
    "(solution: https://mathworld.wolfram.com/FourierTransformSine.html)\n",
    "* Question 2: Use the inverse transform to get back to the original function\n",
    "* Question 3: Investigate what are the meanings of the phase and magnitude of the transformed signal in the physical case of mechanical vibration\n",
    "\n",
    "\n"
   ]
  },
  {
   "cell_type": "markdown",
   "metadata": {},
   "source": [
    "## The Fourier series\n",
    "In my experience as a student, the Fourier transform is often confused with the Fourier series, even in some online guides! The fourier series is a closely related quantity, which is used to compose signals or solutions to differential equations as a series of sine and cosine functions. This should never be confused with the Fourier transform.\n",
    "\n",
    "We will not go far beyond the definition of fourier series, but nevertheless it is\n",
    "\n",
    "\\begin{equation}\n",
    "S_n f(t) = \\sum_{i=-n}^{n}{\\hat{f}(i)e^{jit}} \\rightarrow f(t) \\ as \\ n \\rightarrow \\infty\n",
    "\\end{equation}\n",
    ", where\n",
    "\\begin{equation}\n",
    "    \\hat{f}(i) = \\frac{1}{2\\pi}\\int_{-\\pi}^{\\pi}f(t)e^{-jit}dt, i = 1, 2, ..\n",
    "\\end{equation}\n",
    "\n",
    "You quessed it, $\\hat{f}(i)$ is the Fourier transform of the integral on the closed boundary interval, which is actually arbitrary, $[-\\pi, \\pi]$ in this case. The physical interpretation of the fourier series is that any real function can be defined on a bounded interval can be represented as a series of summed sines and cosines, this is somewhat analogous to the Taylor series which is often more familiar topic for engineers.\n",
    "\n",
    "After the application of the Euler's formula to the integral, the sine part is referred to as the Fourier sine series and the cosine part is the Fourier cosine series. The convergence of the Fourier series is a also a quite complicated topic and we will not go there.\n",
    "\n",
    "A really nice video on the Fourier series is here\n",
    "\n",
    "[![Visualisation of the fourier series video preview](https://img.youtube.com/vi/r6sGWTCMz2k/0.jpg)](https://www.youtube.com/watch?v=r6sGWTCMz2k)\n",
    "\n",
    "The moral of the story here is that you should never confuse the Fourier series with the Fourier transform."
   ]
  },
  {
   "cell_type": "code",
   "execution_count": 105,
   "metadata": {},
   "outputs": [],
   "source": [
    "def S_n(d):\n",
    "    return d"
   ]
  },
  {
   "cell_type": "markdown",
   "metadata": {},
   "source": [
    "### Test questions\n",
    "* Question 1: What is the physical interpretation of the fourier series?"
   ]
  },
  {
   "cell_type": "markdown",
   "metadata": {},
   "source": [
    "## Discrete Fourier Transform\n",
    "\n",
    "In computer world, we deal with discrete properties. Thus we need a discrete version of the integral that only really exists in continuous world. The discrete Fourier transform is defined as\n",
    "\n",
    "\\begin{equation}\n",
    "X_k = \\sum^{N-1}_{n=0}{x_n\\cdot e^{-j\\frac{2\\pi}{N}kn}}\n",
    "\\end{equation}\n",
    "\n",
    "Similarly to the continuous version, we can apply the Euler's formula as\n",
    "\n",
    "\\begin{equation}\n",
    "X_k = \\sum^{N-1}_{n=0}{x_n\\cdot (\\cos{\\frac{2\\pi}{N}kn} - j\\ \\sin{\\frac{2\\pi}{N}kn}})\n",
    "\\end{equation}\n",
    "\n",
    "> where,<br/>\n",
    "> $X_k$ is the transformed point<br/>\n",
    "> $N$ is the number of points in the discrete data set<br/>\n",
    "> $j$ is the imaginary unit<br/>\n",
    "> $k = 0,1,.., N-1$ is the index of the sample\n",
    "\n",
    "Comparing the sum of the DFT to the integral in the Fourier transform, we can see that it simply uses a simple numeric estimation of the continuous version of the integral, where the value x_n is an impulse having the area equals to its value.\n",
    "\n",
    "### Numerical integration\n",
    "Let's forget the Fourier stuff for a second and dive to the discrete integration. The \"impulse\" means here that we treat each data point in the discrete signal as a rectangle, and we sum all the rectangles together.\n",
    "\n",
    "<img src=\"https://upload.wikimedia.org/wikipedia/commons/thumb/2/26/Integration_rectangle.svg/1024px-Integration_rectangle.svg.png\" alt=\"drawing\" width=\"400\"/>\n",
    "The area under the curve is approximated as the sum of these rectangles. The width of each rectangle is the distance between the two samples $T$.\n",
    "\n",
    "Let's consider a simple function $f(x) = x^2$ as an example. Imagine we know the value of the function $x_n$ for $N$ points with equal distance on the x-axis, the integral can be then estimated as\n",
    "\n",
    "\\begin{equation}\n",
    "\\int^2_0 x^2 dx = \\sum_{n=0}^{N-1}f_n(x)\\Delta x = 8/3, \\ N \\rightarrow \\infty\n",
    "\\end{equation}\n",
    "\n",
    "\n",
    "\n",
    "Let's use python to sanity check the convergence of this integration method"
   ]
  },
  {
   "cell_type": "code",
   "execution_count": 97,
   "metadata": {},
   "outputs": [
    {
     "data": {
      "text/plain": [
       "Text(0.5, 1.0, 'Convergence of the numerical integral')"
      ]
     },
     "execution_count": 97,
     "metadata": {},
     "output_type": "execute_result"
    },
    {
     "data": {
      "image/png": "[encoded data removed]",
      "text/plain": [
       "<Figure size 432x288 with 2 Axes>"
      ]
     },
     "metadata": {
      "needs_background": "light"
     },
     "output_type": "display_data"
    }
   ],
   "source": [
    "def continuous_f(x):\n",
    "    return x**2\n",
    "\n",
    "## Now let's investigate the convergence of the discrete integration\n",
    "N = np.linspace(10, 1000)\n",
    "\n",
    "areas = np.zeros(50)\n",
    "for i, n_samples in enumerate(N):\n",
    "    x_range = np.linspace(0, 2, int(n_samples))\n",
    "    signal = continuous_f(x_range)\n",
    "    \n",
    "    T = (x_range[-1] - x_range[0])/len(x_range) # The length of one sample\n",
    "    area = sum(signal)*T\n",
    "    \n",
    "    areas[i] = area\n",
    "\n",
    "## Plot the results\n",
    "f, (ax1, ax2) = plt.subplots(1, 2)\n",
    "ax1.plot(x_range, signal)\n",
    "ax1.set_title('y = x^2')\n",
    "ax2.scatter(N, areas)\n",
    "ax2.plot(N, np.ones(50)*8/3, c='orange')\n",
    "ax2.set_title('Convergence of the numerical integral')\n"
   ]
  },
  {
   "cell_type": "markdown",
   "metadata": {},
   "source": [
    "The area converges to the exact value. In case of time series signals, $\\Delta x = T$ is the sampling frequency. \n",
    "\n",
    "### Harmonic serie trick for derivation of DFT\n",
    "Going back to the definition of the DFT, we see that the equation does not contain the sampling time $\\Delta x$ or $T$. This is because the DFT considers the signal to be periodic, and the evaluation happens at the harmonics of the fundamental frequency, which is the period of the entire signal\n",
    "\n",
    "\\begin{equation}\n",
    "T_0 = \\frac{1}{NT}\n",
    "\\end{equation}\n",
    "\n",
    "If this trick was not used, the Fourier transform could simply be expressed the sum of the impulses of a function at each discrete point as\n",
    "\n",
    "\\begin{equation}\n",
    "\\hat{f}(\\xi) = \\sum_{n=0}^{N-1}f_n(x)\\cdot e^{-j\\xi n T}\n",
    "\\end{equation}\n",
    ", so basically this is the original Fourier transform with the substitutions\n",
    "\n",
    "> $x = \\Delta x = T$  Sampling frequency <br/>\n",
    "> $f(x) = f_n(x) = x_n$ Discrete impulses <br/>\n",
    "> The $2\\pi$ can be added talking about Hz instead of radians\n",
    "\n",
    "These are exactly the same substitutions we used previously in the easy numeric integration example!\n",
    "\n",
    "Now the harder part: The harmonic series of the fundamental frequency can be defined as\n",
    "\\begin{equation}\n",
    "\\xi = 0, \\frac{1}{NT}, \\frac{1}{NT}\\cdot 2, .., \\frac{1}{NT}\\cdot k, \\frac{1}{NT}\\cdot (N-1) = \\sum_{n=0}^{N-1}\\frac{n}{NT}\n",
    "\\end{equation}\n",
    "The intuition of the first term $\\xi = 0$ is that it is the average of the signal. The discretization of the transform follows directly from here because we have the discrete function evaluated at exactly k harmonics, with the values equal to\n",
    "\n",
    "\\begin{equation}\n",
    "X_k = \\sum^{N-1}_{n=0}{x_n\\cdot e^{-j\\frac{1}{N}kn}},\\ k = 0, 1, .., (N-1)\n",
    "\\end{equation}\n",
    "(This is version yields rad/s, to get Hz just multiply the exponential with $2\\pi$)\n",
    "\n",
    "And this was actually the derivation of the DFT. The assumptions needed for the trick were:\n",
    "> The signal is periodic<br/>\n",
    "> The sample interval is constant<br/>\n",
    "> Only N data points (bins) matter for signal of length N <br/>\n",
    "\n",
    "### Frequency scale of the DFT\n",
    "Now we understand how the DFT works so we can easily work out the frequency scale of the DFT output. What we basically do in the DFT, is that we compare the signal at each point to the harmonic $\\frac{k}{NT}$. Intuitively, this means that the frequency resolution, or the with of each \"bin\" of the transformed signal is simply \n",
    "\n",
    "\\begin{equation}\n",
    "\\frac{1}{NT}\n",
    "\\end{equation}\n",
    "\n",
    ", where\n",
    "> $N$ is the number of samples <br/>\n",
    "> $\\frac{1}{T}$ is the sampling frequency <br/>\n",
    "\n",
    "From this directly follows that the frequency range of the DFT is $\\frac{1}{T}$, or the sampling frequency $f_{sample}$."
   ]
  },
  {
   "cell_type": "markdown",
   "metadata": {},
   "source": [
    "### Naive implementation of the DFT\n",
    "\n",
    "Let's make a naive $O(n^2)$ implementation of the DFT for some more hands-on exprience. The implementation of the naive version is extremely simple. Please note that this is the Hz version."
   ]
  },
  {
   "cell_type": "code",
   "execution_count": 98,
   "metadata": {},
   "outputs": [],
   "source": [
    "def naiveFFT(x):\n",
    "    # Add require stuff\n",
    "    \n",
    "    N = x.size\n",
    "    X = np.ones(N)*(0+0j)\n",
    "    \n",
    "    for k in range(N):\n",
    "        A = np.ones(N)*(0+0j)\n",
    "        for n in range(N):\n",
    "            A[n] = x[n]*np.exp(-np.complex(0, 2*np.pi*k*n/N))\n",
    "        X[k] = sum(A)\n",
    "    \n",
    "    return X"
   ]
  },
  {
   "cell_type": "markdown",
   "metadata": {},
   "source": [
    "That's right, implementing the DFT is not hard at all. Let's test it out with a signal containing a 4 Hz sinusoid and a 1.5 Hz sinusoid."
   ]
  },
  {
   "cell_type": "code",
   "execution_count": 100,
   "metadata": {},
   "outputs": [
    {
     "name": "stdout",
     "output_type": "stream",
     "text": [
      "sampling_frequency: 10.0\n"
     ]
    },
    {
     "data": {
      "text/plain": [
       "<function matplotlib.pyplot.plot(*args, scalex=True, scaley=True, data=None, **kwargs)>"
      ]
     },
     "execution_count": 100,
     "metadata": {},
     "output_type": "execute_result"
    },
    {
     "data": {
      "image/png": "[encoded data removed]",
      "text/plain": [
       "<Figure size 432x288 with 2 Axes>"
      ]
     },
     "metadata": {
      "needs_background": "light"
     },
     "output_type": "display_data"
    }
   ],
   "source": [
    "def f_sin(t):\n",
    "    return np.sin(4*t*2*np.pi) + np.sin(1.5*t*2*np.pi)\n",
    "# Create a time-series signal\n",
    "N = 101\n",
    "t = np.linspace(0, 10, N)\n",
    "T = t[1]-t[0]\n",
    "signal = f_sin(t)\n",
    "fft = naiveFFT(signal)\n",
    "freq_scale = np.linspace(0,1/T, N)\n",
    "\n",
    "print(\"sampling_frequency: \" + str(1/T))\n",
    "\n",
    "# Plot the results\n",
    "f, (ax1, ax2) = plt.subplots(1, 2)\n",
    "ax1.plot(t, signal)\n",
    "ax1.set_title('Signal')\n",
    "ax2.plot(freq_scale, np.absolute(fft))\n",
    "ax2.set_title('DFT')\n",
    "plt.plot"
   ]
  },
  {
   "cell_type": "markdown",
   "metadata": {},
   "source": [
    "But wait, the DFT is mirrored w.r.t to 5 Hz? This is called spectral folding, it is a result from the complex conjugate of the real-valued input signal. OK, so for real valued signals the transform is mirrored after $0.5 \\cdot f_{sample}$. Moreover, any frequency higher than the Nyquist frequency, $(0.5 \\cdot f_{sample})$ is not detectable by DFT, and causes aliasing.\n",
    "\n",
    "So as the frequencies above the Nyquist frequency are not interesting, we can instantly drop half of the computation from the DFT by only evaluating to $k = N/2$ with the naive approach, and still effectively get the same result."
   ]
  },
  {
   "cell_type": "markdown",
   "metadata": {},
   "source": [
    "### Naive implementation of the inverse DFT"
   ]
  },
  {
   "cell_type": "code",
   "execution_count": 102,
   "metadata": {},
   "outputs": [],
   "source": [
    "def naive_IDFT(X):\n",
    "    ##\n",
    "    # code here\n",
    "    ##\n",
    "    return x"
   ]
  },
  {
   "cell_type": "markdown",
   "metadata": {},
   "source": [
    "### Test questions\n",
    "* Question 1: What is aliasing?\n",
    "* Question 2: The peaks in the DFT plot are not straight up, as they theoretically should be for the sinusoids, what is this phenomenon caused by the sampling called?\n",
    "* Question 3: Look a little bit into what windowing means in the context of the DFT, and what it does to the phenomenon of question 2.\n",
    "* Question 4: Implement the computation requirement halving suggestion from the text to the naive DFT.\n",
    "* Question 5: Implement the naive inverse DFT above.\n"
   ]
  },
  {
   "cell_type": "markdown",
   "metadata": {},
   "source": [
    "## The Fast Fourier Transform\n",
    "The fast fourier transform is an algorithm developed in the sixties by the mathematicians Cooley and Tuckey. The FFT algorithm reduces the time-complexity of the DFT to $O(n \\log n)$ by using some mathematical tricks to reduce the amount of computation work required. I plan to make a separate notebook about the implementation of the FFT because this post would be too long."
   ]
  },
  {
   "cell_type": "code",
   "execution_count": null,
   "metadata": {},
   "outputs": [],
   "source": []
  }
 ],
 "metadata": {
  "kernelspec": {
   "display_name": "Python 3",
   "language": "python",
   "name": "python3"
  },
  "language_info": {
   "codemirror_mode": {
    "name": "ipython",
    "version": 3
   },
   "file_extension": ".py",
   "mimetype": "text/x-python",
   "name": "python",
   "nbconvert_exporter": "python",
   "pygments_lexer": "ipython3",
   "version": "3.8.7"
  }
 },
 "nbformat": 4,
 "nbformat_minor": 4
}
